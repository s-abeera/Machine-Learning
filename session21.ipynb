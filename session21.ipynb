{
 "cells": [
  {
   "attachments": {},
   "cell_type": "markdown",
   "metadata": {},
   "source": [
    "### SVM Kernels "
   ]
  },
  {
   "attachments": {},
   "cell_type": "markdown",
   "metadata": {},
   "source": [
    "The nullspace, also known as the kernel, of a matrix x is the set of vectors that produce a zero vector when multiplied by x. It is not relevant to finding optimal weights for a linear parameter model, as it only represents weight combinations that would result in a zero prediction. The main goal is to determine the best weights that minimize the difference between the predicted and actual outputs, which can be achieved through the least squares regression method. This method provides a closed-form solution for w using the equation w = (X^T X)^-1 X^T y, where ^T indicates matrix transpose and ^-1 denotes matrix inverse. Adding a regularization term can help represent the weights as a linear combination of the data points.\n",
    "\n",
    "The radial basis function (RBF) is a common technique used in machine learning and pattern recognition to map input data points to a higher dimension where linear methods can be used to separate them. RBF is infinite-dimensional and based on Mercer's theorem. The second part of the equation represents the kernel representation of the RBF kernel, and phi denotes the feature map that maps the input data points. However, computing the inner product between the feature vectors of all pairs of data points can be computationally expensive, especially for large datasets."
   ]
  },
  {
   "attachments": {},
   "cell_type": "markdown",
   "metadata": {},
   "source": [
    "For the linear kernel: $Φ(x) = x$\n",
    "\n",
    "For the quadratic kernel $Φ(x) = [x^2, y^2, x, y]^T$"
   ]
  },
  {
   "cell_type": "code",
   "execution_count": null,
   "metadata": {},
   "outputs": [],
   "source": []
  },
  {
   "cell_type": "code",
   "execution_count": 4,
   "metadata": {},
   "outputs": [
    {
     "name": "stdout",
     "output_type": "stream",
     "text": [
      "[[136   3]\n",
      " [  3 133]]\n",
      "              precision    recall  f1-score   support\n",
      "\n",
      "           0       0.98      0.98      0.98       139\n",
      "           1       0.98      0.98      0.98       136\n",
      "\n",
      "    accuracy                           0.98       275\n",
      "   macro avg       0.98      0.98      0.98       275\n",
      "weighted avg       0.98      0.98      0.98       275\n",
      "\n"
     ]
    }
   ],
   "source": [
    "#Kernel SVM\n",
    "import matplotlib.pyplot as plt\n",
    "import pandas as pd\n",
    "url = \"https://docs.google.com/spreadsheets/d/e/2PACX-1vRyC30MY4Wo7epIBrLQvpaW-NZxWHT4n9tSFMj30sow7p05cvj4P38AztI-wwxdmmeJDrEZXhVc1CGL/pub?gid=1319913151&single=true&output=csv\"\n",
    "bankdata = pd.read_csv(url)\n",
    "X = bankdata.drop('Class', axis=1)\n",
    "y = bankdata['Class']\n",
    "\n",
    "from sklearn.model_selection import train_test_split\n",
    "X_train, X_test, y_train, y_test = train_test_split(X, y, test_size = 0.20)\n",
    "\n",
    "from sklearn.svm import SVC\n",
    "svclassifier = SVC(kernel='linear')\n",
    "svclassifier.fit(X_train, y_train)\n",
    "y_pred = svclassifier.predict(X_test)\n",
    "\n",
    "from sklearn.metrics import classification_report, confusion_matrix\n",
    "print(confusion_matrix(y_test,y_pred))\n",
    "print(classification_report(y_test,y_pred))"
   ]
  },
  {
   "cell_type": "code",
   "execution_count": 2,
   "metadata": {},
   "outputs": [],
   "source": [
    "linear_classifier = SVC(kernel='linear')\n",
    "quadratic_classifier = SVC(kernel='poly', degree=2)\n",
    "rbf_classifier = SVC(kernel='rbf', gamma=1)\n",
    "linear_classifier.fit(X_train, y_train)\n",
    "quadratic_classifier.fit(X_train, y_train)\n",
    "rbf_classifier.fit(X_train, y_train)\n",
    "y_pred_linear = linear_classifier.predict(X_test)\n",
    "y_pred_quadratic = quadratic_classifier.predict(X_test)\n",
    "y_pred_rbf = rbf_classifier.predict(X_test)"
   ]
  },
  {
   "cell_type": "code",
   "execution_count": 6,
   "metadata": {},
   "outputs": [
    {
     "name": "stdout",
     "output_type": "stream",
     "text": [
      "Linear classifier\n",
      "              precision    recall  f1-score   support\n",
      "\n",
      "           0       0.52      0.60      0.56       139\n",
      "           1       0.51      0.43      0.47       136\n",
      "\n",
      "    accuracy                           0.52       275\n",
      "   macro avg       0.52      0.52      0.51       275\n",
      "weighted avg       0.52      0.52      0.51       275\n",
      "\n",
      "Quadratic classifier\n",
      "              precision    recall  f1-score   support\n",
      "\n",
      "           0       0.52      0.58      0.54       139\n",
      "           1       0.51      0.45      0.48       136\n",
      "\n",
      "    accuracy                           0.51       275\n",
      "   macro avg       0.51      0.51      0.51       275\n",
      "weighted avg       0.51      0.51      0.51       275\n",
      "\n",
      "RBF classifier\n",
      "              precision    recall  f1-score   support\n",
      "\n",
      "           0       0.52      0.59      0.55       139\n",
      "           1       0.51      0.44      0.47       136\n",
      "\n",
      "    accuracy                           0.52       275\n",
      "   macro avg       0.52      0.52      0.51       275\n",
      "weighted avg       0.52      0.52      0.51       275\n",
      "\n"
     ]
    },
    {
     "data": {
      "image/png": "[encoded data removed]",
      "text/plain": [
       "<Figure size 640x480 with 1 Axes>"
      ]
     },
     "metadata": {},
     "output_type": "display_data"
    },
    {
     "name": "stdout",
     "output_type": "stream",
     "text": [
      "Linear classifier average:  0.9883397478433974\n",
      "Quadratic classifier average:  0.972307896483079\n",
      "RBF classifier average:  1.0\n"
     ]
    }
   ],
   "source": [
    "import numpy as np\n",
    "#bonus code cell\n",
    "print(\"Linear classifier\")\n",
    "print(classification_report(y_test,y_pred_linear))\n",
    "print(\"Quadratic classifier\")\n",
    "print(classification_report(y_test,y_pred_quadratic))\n",
    "print(\"RBF classifier\")\n",
    "print(classification_report(y_test,y_pred_rbf))\n",
    "\n",
    "# using cross-validation\n",
    "from sklearn.model_selection import cross_val_score\n",
    "scores_linear = cross_val_score(linear_classifier, X, y, cv = 5)\n",
    "scores_quadratic = cross_val_score(quadratic_classifier, X, y, cv = 5)\n",
    "scores_rbf = cross_val_score(rbf_classifier, X, y, cv = 5)\n",
    "\n",
    "# plotting the mean of each classifier\n",
    "plt.bar(['Linear', 'Quadratic', 'RBF'], [np.mean(scores_linear), np.mean(scores_quadratic), np.mean(scores_rbf)])\n",
    "plt.ylabel('Accuracy')\n",
    "plt.show()\n",
    "\n",
    "print('Linear classifier average: ', np.mean(scores_linear))\n",
    "print('Quadratic classifier average: ', np.mean(scores_quadratic)) \n",
    "print('RBF classifier average: ', np.mean(scores_rbf))"
   ]
  }
 ],
 "metadata": {
  "kernelspec": {
   "display_name": "Python 3",
   "language": "python",
   "name": "python3"
  },
  "language_info": {
   "codemirror_mode": {
    "name": "ipython",
    "version": 3
   },
   "file_extension": ".py",
   "mimetype": "text/x-python",
   "name": "python",
   "nbconvert_exporter": "python",
   "pygments_lexer": "ipython3",
   "version": "3.11.1"
  },
  "orig_nbformat": 4
 },
 "nbformat": 4,
 "nbformat_minor": 2
}
